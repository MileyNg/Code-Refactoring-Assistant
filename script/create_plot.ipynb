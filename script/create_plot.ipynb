{
 "cells": [
  {
   "cell_type": "code",
   "execution_count": null,
   "metadata": {},
   "outputs": [],
   "source": [
    "import pandas as pd\n",
    "import matplotlib.pyplot as plt\n",
    "import seaborn as sns"
   ]
  },
  {
   "cell_type": "code",
   "execution_count": null,
   "metadata": {},
   "outputs": [],
   "source": [
    "# read each CSV file into a separate DataFrame\n",
    "df_1 = pd.read_csv(\"../documents/analysis_results1.csv\")\n",
    "df_2 = pd.read_csv(\"../documents/analysis_results2.csv\")\n",
    "df_3 = pd.read_csv(\"../documents/analysis_results3.csv\")\n",
    "df_4 = pd.read_csv(\"../documents/analysis_results4.csv\")\n",
    "df_5 = pd.read_csv(\"../documents/analysis_results5.csv\")\n",
    "df_6 = pd.read_csv(\"../documents/analysis_results6.csv\")\n",
    "df_7 = pd.read_csv(\"../documents/analysis_results7.csv\")\n",
    "df_8 = pd.read_csv(\"../documents/analysis_results8.csv\")\n",
    "df_9 = pd.read_csv(\"../documents/analysis_results9.csv\")\n",
    "df_10 = pd.read_csv(\"../documents/analysis_results10.csv\")"
   ]
  },
  {
   "cell_type": "code",
   "execution_count": null,
   "metadata": {},
   "outputs": [],
   "source": [
    "# combined DataFrame\n",
    "combined_df = pd.concat([df_1, df_2, df_3, df_4, df_5, df_6, df_7, df_8, df_9, df_10], keys=[\"Run1\", \"Run2\", \"Run3\", \"Run4\", \"Run5\", \"Run6\", \"Run7\", \"Run8\", \"Run9\", \"Run10\"], names=[\"Run\", \"Index\"]).reset_index(level=\"Run\")\n",
    "filenames = combined_df[\"filename\"].unique()\n",
    "accepted_only_df = combined_df[combined_df[\"validation_status\"] == \"ACCEPTED\"]\n",
    "grouped_test_code_metrics = accepted_only_df.groupby([\"filename\", \"iteration\"]).mean().reset_index()"
   ]
  },
  {
   "cell_type": "code",
   "execution_count": null,
   "metadata": {},
   "outputs": [],
   "source": [
    "# list of metrics\n",
    "metrics = [\"cyclic_complexity\", \"loc\", \"maintainability_index\", \"halstead_volume\", \"halstead_difficulty\", \"halstead_effort\"]"
   ]
  },
  {
   "cell_type": "code",
   "execution_count": null,
   "metadata": {},
   "outputs": [],
   "source": [
    "# plotting improvements across iterations for given metric and filename\n",
    "def plot_improvement_by_filename(metric, filename):\n",
    "    plt.figure(figsize=(15, 10))\n",
    "    sns.lineplot(data=combined_df[combined_df[\"filename\"] == filename], x=\"iteration\", y=metric, hue=\"Run\", marker=\"o\", estimator=None)\n",
    "    plt.title(f\"{metric.title()} across iterations for {filename}\")\n",
    "    plt.xlabel(\"Iteration\")\n",
    "    plt.ylabel(metric)\n",
    "    plt.legend(title=\"Run\", bbox_to_anchor=(1.05, 1), loc=\"upper left\")\n",
    "    plt.show()\n",
    "\n",
    "for metric in metrics:\n",
    "    plot_improvement_by_filename(metric, filenames[1])"
   ]
  }
 ],
 "metadata": {
  "language_info": {
   "name": "python"
  }
 },
 "nbformat": 4,
 "nbformat_minor": 2
}
